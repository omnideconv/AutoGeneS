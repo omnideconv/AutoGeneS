{
 "cells": [
  {
   "cell_type": "code",
   "execution_count": 1,
   "metadata": {},
   "outputs": [],
   "source": [
    "import scanpy as sc\n",
    "import anndata\n",
    "import numpy as np\n",
    "import pandas as pd\n",
    "import sys\n",
    "import importlib\n",
    "\n",
    "sys.path.append(\"..\")\n",
    "\n",
    "import pickle\n",
    "from autogenes import AutoGenes"
   ]
  },
  {
   "cell_type": "code",
   "execution_count": 2,
   "metadata": {},
   "outputs": [],
   "source": [
    "%load_ext autoreload\n",
    "%autoreload 1\n",
    "%aimport autogenes"
   ]
  },
  {
   "cell_type": "code",
   "execution_count": 3,
   "metadata": {},
   "outputs": [
    {
     "data": {
      "text/plain": [
       "<module 'autogenes' from '../autogenes/__init__.py'>"
      ]
     },
     "execution_count": 3,
     "metadata": {},
     "output_type": "execute_result"
    }
   ],
   "source": [
    "importlib.reload(autogenes)"
   ]
  },
  {
   "cell_type": "code",
   "execution_count": 4,
   "metadata": {},
   "outputs": [
    {
     "data": {
      "text/html": [
       "<div>\n",
       "<style scoped>\n",
       "    .dataframe tbody tr th:only-of-type {\n",
       "        vertical-align: middle;\n",
       "    }\n",
       "\n",
       "    .dataframe tbody tr th {\n",
       "        vertical-align: top;\n",
       "    }\n",
       "\n",
       "    .dataframe thead th {\n",
       "        text-align: right;\n",
       "    }\n",
       "</style>\n",
       "<table border=\"1\" class=\"dataframe\">\n",
       "  <thead>\n",
       "    <tr style=\"text-align: right;\">\n",
       "      <th>index</th>\n",
       "      <th>CD109</th>\n",
       "      <th>CD163</th>\n",
       "      <th>PHYHIPL</th>\n",
       "      <th>OR9A4</th>\n",
       "      <th>CDH1</th>\n",
       "      <th>TMIE</th>\n",
       "      <th>APOA2</th>\n",
       "      <th>GAGE12D</th>\n",
       "      <th>USP29</th>\n",
       "      <th>TTLL2</th>\n",
       "      <th>...</th>\n",
       "      <th>LRRC2</th>\n",
       "      <th>PDE11A</th>\n",
       "      <th>PFDN4</th>\n",
       "      <th>OPN5</th>\n",
       "      <th>DLC1</th>\n",
       "      <th>IFI44L</th>\n",
       "      <th>PRR23A</th>\n",
       "      <th>GDF9</th>\n",
       "      <th>DDA1</th>\n",
       "      <th>CCDC125</th>\n",
       "    </tr>\n",
       "  </thead>\n",
       "  <tbody>\n",
       "    <tr>\n",
       "      <th>H1</th>\n",
       "      <td>0.155816</td>\n",
       "      <td>0.000010</td>\n",
       "      <td>0.004350</td>\n",
       "      <td>0.000022</td>\n",
       "      <td>1.885752</td>\n",
       "      <td>0.000446</td>\n",
       "      <td>0.001204</td>\n",
       "      <td>0.000000</td>\n",
       "      <td>0.009259</td>\n",
       "      <td>0.001220</td>\n",
       "      <td>...</td>\n",
       "      <td>0.388692</td>\n",
       "      <td>0.092628</td>\n",
       "      <td>0.920212</td>\n",
       "      <td>0.000021</td>\n",
       "      <td>0.032301</td>\n",
       "      <td>0.002657</td>\n",
       "      <td>0.047878</td>\n",
       "      <td>0.000157</td>\n",
       "      <td>0.123657</td>\n",
       "      <td>0.262672</td>\n",
       "    </tr>\n",
       "    <tr>\n",
       "      <th>DBC</th>\n",
       "      <td>0.137496</td>\n",
       "      <td>0.089907</td>\n",
       "      <td>0.088457</td>\n",
       "      <td>0.000000</td>\n",
       "      <td>0.428238</td>\n",
       "      <td>0.010872</td>\n",
       "      <td>1.045434</td>\n",
       "      <td>0.000000</td>\n",
       "      <td>0.010952</td>\n",
       "      <td>0.004461</td>\n",
       "      <td>...</td>\n",
       "      <td>0.522557</td>\n",
       "      <td>0.097860</td>\n",
       "      <td>0.656919</td>\n",
       "      <td>0.000364</td>\n",
       "      <td>1.677883</td>\n",
       "      <td>0.004834</td>\n",
       "      <td>0.052945</td>\n",
       "      <td>0.000160</td>\n",
       "      <td>0.222568</td>\n",
       "      <td>0.372195</td>\n",
       "    </tr>\n",
       "    <tr>\n",
       "      <th>EC</th>\n",
       "      <td>2.160324</td>\n",
       "      <td>0.004771</td>\n",
       "      <td>0.000000</td>\n",
       "      <td>0.000000</td>\n",
       "      <td>0.160532</td>\n",
       "      <td>0.001173</td>\n",
       "      <td>0.000000</td>\n",
       "      <td>0.000000</td>\n",
       "      <td>0.012504</td>\n",
       "      <td>0.016121</td>\n",
       "      <td>...</td>\n",
       "      <td>0.371620</td>\n",
       "      <td>0.115885</td>\n",
       "      <td>0.368386</td>\n",
       "      <td>0.188562</td>\n",
       "      <td>2.828626</td>\n",
       "      <td>0.006612</td>\n",
       "      <td>0.061515</td>\n",
       "      <td>0.000000</td>\n",
       "      <td>0.271337</td>\n",
       "      <td>0.350892</td>\n",
       "    </tr>\n",
       "    <tr>\n",
       "      <th>HFF</th>\n",
       "      <td>4.340601</td>\n",
       "      <td>0.000000</td>\n",
       "      <td>0.000000</td>\n",
       "      <td>0.000000</td>\n",
       "      <td>0.123398</td>\n",
       "      <td>0.001487</td>\n",
       "      <td>0.000000</td>\n",
       "      <td>0.000000</td>\n",
       "      <td>0.012213</td>\n",
       "      <td>0.000061</td>\n",
       "      <td>...</td>\n",
       "      <td>0.327675</td>\n",
       "      <td>0.080658</td>\n",
       "      <td>0.478675</td>\n",
       "      <td>0.000000</td>\n",
       "      <td>1.756251</td>\n",
       "      <td>0.083066</td>\n",
       "      <td>0.047503</td>\n",
       "      <td>0.000000</td>\n",
       "      <td>0.168979</td>\n",
       "      <td>0.368760</td>\n",
       "    </tr>\n",
       "    <tr>\n",
       "      <th>NPC</th>\n",
       "      <td>0.109122</td>\n",
       "      <td>0.000000</td>\n",
       "      <td>0.023976</td>\n",
       "      <td>0.000092</td>\n",
       "      <td>0.165340</td>\n",
       "      <td>0.000000</td>\n",
       "      <td>0.000000</td>\n",
       "      <td>0.000052</td>\n",
       "      <td>0.012914</td>\n",
       "      <td>0.000045</td>\n",
       "      <td>...</td>\n",
       "      <td>0.373989</td>\n",
       "      <td>0.155740</td>\n",
       "      <td>0.752287</td>\n",
       "      <td>0.000269</td>\n",
       "      <td>0.622852</td>\n",
       "      <td>0.016263</td>\n",
       "      <td>0.061429</td>\n",
       "      <td>0.000000</td>\n",
       "      <td>0.243662</td>\n",
       "      <td>0.460025</td>\n",
       "    </tr>\n",
       "  </tbody>\n",
       "</table>\n",
       "<p>5 rows × 4000 columns</p>\n",
       "</div>"
      ],
      "text/plain": [
       "index     CD109     CD163   PHYHIPL     OR9A4      CDH1      TMIE     APOA2  \\\n",
       "H1     0.155816  0.000010  0.004350  0.000022  1.885752  0.000446  0.001204   \n",
       "DBC    0.137496  0.089907  0.088457  0.000000  0.428238  0.010872  1.045434   \n",
       "EC     2.160324  0.004771  0.000000  0.000000  0.160532  0.001173  0.000000   \n",
       "HFF    4.340601  0.000000  0.000000  0.000000  0.123398  0.001487  0.000000   \n",
       "NPC    0.109122  0.000000  0.023976  0.000092  0.165340  0.000000  0.000000   \n",
       "\n",
       "index   GAGE12D     USP29     TTLL2  ...     LRRC2    PDE11A     PFDN4  \\\n",
       "H1     0.000000  0.009259  0.001220  ...  0.388692  0.092628  0.920212   \n",
       "DBC    0.000000  0.010952  0.004461  ...  0.522557  0.097860  0.656919   \n",
       "EC     0.000000  0.012504  0.016121  ...  0.371620  0.115885  0.368386   \n",
       "HFF    0.000000  0.012213  0.000061  ...  0.327675  0.080658  0.478675   \n",
       "NPC    0.000052  0.012914  0.000045  ...  0.373989  0.155740  0.752287   \n",
       "\n",
       "index      OPN5      DLC1    IFI44L    PRR23A      GDF9      DDA1   CCDC125  \n",
       "H1     0.000021  0.032301  0.002657  0.047878  0.000157  0.123657  0.262672  \n",
       "DBC    0.000364  1.677883  0.004834  0.052945  0.000160  0.222568  0.372195  \n",
       "EC     0.188562  2.828626  0.006612  0.061515  0.000000  0.271337  0.350892  \n",
       "HFF    0.000000  1.756251  0.083066  0.047503  0.000000  0.168979  0.368760  \n",
       "NPC    0.000269  0.622852  0.016263  0.061429  0.000000  0.243662  0.460025  \n",
       "\n",
       "[5 rows x 4000 columns]"
      ]
     },
     "execution_count": 4,
     "metadata": {},
     "output_type": "execute_result"
    }
   ],
   "source": [
    "bulkdata = pd.read_csv('../datasets/GSE75748_bulk_data.csv',index_col='index')\n",
    "bulkdata = bulkdata.T\n",
    "#bulkdata = bulkdata.drop(bulkdata.columns[20:], axis=1)\n",
    "bulkdata.head()\n"
   ]
  },
  {
   "cell_type": "markdown",
   "metadata": {},
   "source": [
    "# Run"
   ]
  },
  {
   "cell_type": "code",
   "execution_count": 5,
   "metadata": {},
   "outputs": [
    {
     "name": "stdout",
     "output_type": "stream",
     "text": [
      "gen\tnevals\tdistance        \tcorrelation \n",
      "0  \t100   \t349.65 - 1219.75\t2.16 - 14.73\n",
      "1  \t100   \t351.17 - 1219.75\t2.16 - 14.73\n",
      "2  \t100   \t598.35 - 1219.75\t2.16 - 14.32\n"
     ]
    }
   ],
   "source": [
    "ag = AutoGenes(bulkdata)\n",
    "ag.run()"
   ]
  },
  {
   "cell_type": "code",
   "execution_count": 6,
   "metadata": {},
   "outputs": [
    {
     "data": {
      "image/png": "[encoded data removed]",
      "text/plain": [
       "<Figure size 720x360 with 1 Axes>"
      ]
     },
     "metadata": {
      "needs_background": "light"
     },
     "output_type": "display_data"
    }
   ],
   "source": [
    "ag.plot()"
   ]
  },
  {
   "cell_type": "code",
   "execution_count": 7,
   "metadata": {},
   "outputs": [],
   "source": [
    "ag.save('saved_ag.pickle')"
   ]
  },
  {
   "cell_type": "code",
   "execution_count": 11,
   "metadata": {},
   "outputs": [
    {
     "name": "stdout",
     "output_type": "stream",
     "text": [
      "0: (1219.7472836662403, 13.63386309017619)\n",
      "1: (1219.7457471064347, 13.63384023477531)\n",
      "2: (1209.7383044077455, 13.382494130554754)\n",
      "3: (1209.7372516460346, 13.382455240935473)\n",
      "4: (1209.7372327345638, 13.382426339321881)\n",
      "5: (1050.3994457320375, 2.8014607393345563)\n",
      "6: (1048.8973061541049, 2.796119593315792)\n",
      "7: (772.971655432553, 2.158252683672027)\n",
      "8: (772.9236374430153, 2.1566575269756623)\n"
     ]
    }
   ],
   "source": [
    "ag.print()"
   ]
  },
  {
   "cell_type": "code",
   "execution_count": 13,
   "metadata": {},
   "outputs": [],
   "source": [
    "ag2 = AutoGenes.load('saved_ag.pickle')"
   ]
  },
  {
   "cell_type": "code",
   "execution_count": 14,
   "metadata": {},
   "outputs": [
    {
     "name": "stdout",
     "output_type": "stream",
     "text": [
      "0: (1219.7472836662403, 13.63386309017619)\n",
      "1: (1219.7457471064347, 13.63384023477531)\n",
      "2: (1209.7383044077455, 13.382494130554754)\n",
      "3: (1209.7372516460346, 13.382455240935473)\n",
      "4: (1209.7372327345638, 13.382426339321881)\n",
      "5: (1050.3994457320375, 2.8014607393345563)\n",
      "6: (1048.8973061541049, 2.796119593315792)\n",
      "7: (772.971655432553, 2.158252683672027)\n",
      "8: (772.9236374430153, 2.1566575269756623)\n"
     ]
    }
   ],
   "source": [
    "ag2.print()"
   ]
  },
  {
   "cell_type": "code",
   "execution_count": 15,
   "metadata": {},
   "outputs": [
    {
     "data": {
      "image/png": "[encoded data removed]",
      "text/plain": [
       "<Figure size 720x360 with 1 Axes>"
      ]
     },
     "metadata": {
      "needs_background": "light"
     },
     "output_type": "display_data"
    }
   ],
   "source": [
    "ag2.plot()"
   ]
  },
  {
   "cell_type": "code",
   "execution_count": null,
   "metadata": {},
   "outputs": [],
   "source": []
  }
 ],
 "metadata": {
  "kernelspec": {
   "display_name": "Python 3",
   "language": "python",
   "name": "python3"
  },
  "language_info": {
   "codemirror_mode": {
    "name": "ipython",
    "version": 3
   },
   "file_extension": ".py",
   "mimetype": "text/x-python",
   "name": "python",
   "nbconvert_exporter": "python",
   "pygments_lexer": "ipython3",
   "version": "3.6.9"
  }
 },
 "nbformat": 4,
 "nbformat_minor": 2
}
