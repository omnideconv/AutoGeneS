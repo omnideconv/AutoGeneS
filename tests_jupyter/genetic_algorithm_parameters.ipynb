{
 "cells": [
  {
   "cell_type": "code",
   "execution_count": 1,
   "metadata": {},
   "outputs": [],
   "source": [
    "import anndata\n",
    "import numpy as np\n",
    "import pandas as pd\n",
    "import importlib\n",
    "\n",
    "import sys\n",
    "sys.path.append(\"..\")\n",
    "import autogenes"
   ]
  },
  {
   "cell_type": "code",
   "execution_count": 2,
   "metadata": {},
   "outputs": [],
   "source": [
    "data = pd.read_csv('../datasets/GSE75748_bulk_data.csv',index_col='index')\n",
    "data = data.T.iloc[:,:20].values"
   ]
  },
  {
   "cell_type": "code",
   "execution_count": 3,
   "metadata": {},
   "outputs": [
    {
     "name": "stdout",
     "output_type": "stream",
     "text": [
      "gen\tnevals\tpareto\tcorrelation \tdistance    \n",
      "0  \t100   \t3     \t4.25 - 14.89\t0.69 - 58.21\n",
      "1  \t50    \t3     \t4.25 - 11.17\t16.12 - 58.21\n",
      "2  \t50    \t3     \t4.25 - 10.38\t19.7 - 58.21 \n"
     ]
    }
   ],
   "source": [
    "ag = autogenes.AutoGeneS(data)\n",
    "ag.run()"
   ]
  },
  {
   "cell_type": "code",
   "execution_count": 4,
   "metadata": {},
   "outputs": [
    {
     "name": "stdout",
     "output_type": "stream",
     "text": [
      "gen\tnevals\tpareto\tcorrelation \tdistance    \n",
      "0  \t50    \t2     \t5.02 - 14.92\t0.74 - 62.59\n",
      "1  \t50    \t2     \t5.02 - 8.62 \t5.87 - 62.59\n",
      "2  \t50    \t2     \t5.02 - 6.94 \t5.87 - 62.59\n",
      "3  \t50    \t2     \t5.02 - 6.94 \t5.87 - 62.59\n",
      "4  \t50    \t2     \t5.02 - 5.68 \t44.9 - 62.59\n",
      "5  \t50    \t2     \t5.02 - 5.09 \t56.2 - 62.59\n"
     ]
    }
   ],
   "source": [
    "ag.run(ngen=5,seed=2,population_size=50,offspring_size=50)"
   ]
  },
  {
   "cell_type": "code",
   "execution_count": 5,
   "metadata": {},
   "outputs": [
    {
     "name": "stdout",
     "output_type": "stream",
     "text": [
      "gen\tnevals\tpareto\tcorrelation \tdistance    \n",
      "0  \t100   \t3     \t4.33 - 14.92\t0.74 - 63.45\n",
      "1  \t50    \t3     \t4.33 - 9.32 \t5.76 - 63.45\n",
      "2  \t50    \t3     \t4.33 - 8.37 \t5.87 - 63.45\n",
      "3  \t50    \t3     \t4.33 - 7.5  \t5.87 - 63.45\n",
      "4  \t50    \t3     \t4.33 - 7.23 \t5.87 - 63.45\n",
      "5  \t50    \t3     \t4.33 - 6.16 \t5.87 - 63.45\n"
     ]
    }
   ],
   "source": [
    "ag.run(ngen=5,seed=2)"
   ]
  },
  {
   "cell_type": "code",
   "execution_count": 6,
   "metadata": {},
   "outputs": [
    {
     "name": "stdout",
     "output_type": "stream",
     "text": [
      "gen\tnevals\tpareto\tcorrelation \tdistance    \n",
      "0  \t100   \t3     \t4.33 - 14.92\t0.74 - 63.45\n",
      "1  \t0     \t3     \t4.33 - 13.5 \t5.76 - 63.45\n",
      "2  \t0     \t3     \t4.33 - 8.37 \t5.87 - 63.45\n",
      "3  \t0     \t3     \t4.33 - 7.5  \t5.87 - 63.45\n",
      "4  \t0     \t3     \t4.33 - 7.23 \t5.87 - 63.45\n",
      "5  \t0     \t3     \t4.33 - 5.8  \t44.9 - 63.45\n",
      "6  \t0     \t3     \t4.33 - 5.51 \t44.9 - 63.45\n",
      "7  \t0     \t3     \t4.33 - 5.09 \t53.41 - 63.45\n",
      "8  \t0     \t3     \t4.33 - 4.62 \t53.41 - 63.45\n",
      "9  \t0     \t3     \t4.62 - 4.62 \t63.45 - 63.45\n",
      "10 \t0     \t3     \t4.62 - 4.62 \t63.45 - 63.45\n",
      "11 \t0     \t3     \t4.62 - 4.62 \t63.45 - 63.45\n",
      "12 \t0     \t3     \t4.62 - 4.62 \t63.45 - 63.45\n",
      "13 \t0     \t3     \t4.62 - 4.62 \t63.45 - 63.45\n",
      "14 \t0     \t3     \t4.62 - 4.62 \t63.45 - 63.45\n",
      "15 \t0     \t3     \t4.62 - 4.62 \t63.45 - 63.45\n"
     ]
    }
   ],
   "source": [
    "ag.run(ngen=15,seed=2,crossover_pb=0,mutation_pb=0)"
   ]
  },
  {
   "cell_type": "code",
   "execution_count": 7,
   "metadata": {},
   "outputs": [
    {
     "name": "stdout",
     "output_type": "stream",
     "text": [
      "gen\tnevals\tpareto\tcorrelation \tdistance    \n",
      "0  \t2     \t1     \t9.59 - 10.06\t5.89 - 24.21\n",
      "1  \t2     \t1     \t9.59 - 10.06\t5.89 - 24.21\n",
      "2  \t2     \t1     \t9.59 - 10.06\t5.89 - 24.21\n",
      "3  \t2     \t1     \t9.59 - 9.59 \t24.21 - 24.21\n",
      "4  \t2     \t1     \t9.59 - 9.59 \t24.21 - 24.21\n",
      "5  \t2     \t1     \t9.59 - 9.59 \t24.21 - 24.21\n"
     ]
    }
   ],
   "source": [
    "ag.run(ngen=5,seed=2,population_size=2,offspring_size=2)"
   ]
  },
  {
   "cell_type": "code",
   "execution_count": 8,
   "metadata": {},
   "outputs": [
    {
     "name": "stdout",
     "output_type": "stream",
     "text": [
      "gen\tnevals\tpareto\tcorrelation \tdistance    \n",
      "0  \t100   \t1     \t4.72 - 14.92\t0.71 - 57.65\n",
      "1  \t50    \t1     \t4.72 - 14.25\t5.46 - 57.65\n",
      "2  \t50    \t1     \t4.72 - 9.96 \t5.8 - 57.65 \n",
      "3  \t50    \t1     \t4.72 - 7.65 \t5.8 - 57.65 \n",
      "4  \t50    \t1     \t4.72 - 7.5  \t5.8 - 57.65 \n",
      "5  \t50    \t1     \t4.72 - 7.39 \t5.8 - 57.65 \n",
      "6  \t50    \t1     \t4.72 - 7.39 \t5.8 - 57.65 \n",
      "7  \t50    \t1     \t4.72 - 7.39 \t5.8 - 57.65 \n",
      "8  \t50    \t1     \t4.72 - 5.53 \t43.96 - 57.65\n",
      "9  \t50    \t1     \t4.72 - 5.46 \t43.96 - 57.65\n",
      "10 \t50    \t1     \t4.72 - 5.46 \t43.96 - 57.65\n"
     ]
    }
   ],
   "source": [
    "ag.run(ngen=10,seed=2,ind_standard_pb=0.01)"
   ]
  },
  {
   "cell_type": "code",
   "execution_count": 9,
   "metadata": {},
   "outputs": [
    {
     "name": "stdout",
     "output_type": "stream",
     "text": [
      "gen\tnevals\tpareto\tcorrelation \tdistance     \n",
      "0  \t100   \t6     \t3.76 - 10.77\t17.37 - 63.59\n",
      "1  \t50    \t6     \t3.76 - 5.97 \t31.78 - 63.59\n",
      "2  \t50    \t6     \t3.76 - 5.64 \t31.78 - 63.59\n",
      "3  \t50    \t6     \t3.76 - 5.33 \t31.78 - 63.59\n",
      "4  \t50    \t6     \t3.76 - 5.29 \t53.46 - 63.59\n",
      "5  \t50    \t6     \t3.76 - 5.29 \t57.79 - 63.59\n",
      "6  \t50    \t6     \t3.76 - 5.29 \t57.79 - 63.59\n",
      "7  \t50    \t6     \t3.76 - 5.29 \t57.79 - 63.59\n",
      "8  \t50    \t6     \t3.76 - 5.29 \t57.8 - 63.59 \n",
      "9  \t50    \t6     \t3.76 - 5.29 \t57.8 - 63.59 \n",
      "10 \t50    \t6     \t3.76 - 5.29 \t57.8 - 63.59 \n"
     ]
    }
   ],
   "source": [
    "ag.run(ngen=10,seed=2,ind_standard_pb=0.7)"
   ]
  },
  {
   "cell_type": "code",
   "execution_count": 10,
   "metadata": {},
   "outputs": [
    {
     "name": "stdout",
     "output_type": "stream",
     "text": [
      "gen\tnevals\tpareto\tcorrelation \tdistance    \n",
      "0  \t100   \t3     \t4.33 - 14.92\t0.74 - 63.45\n",
      "1  \t50    \t3     \t4.33 - 10.69\t5.76 - 63.45\n",
      "2  \t50    \t3     \t4.33 - 8.37 \t5.87 - 63.45\n",
      "3  \t50    \t4     \t4.33 - 7.62 \t5.87 - 63.45\n",
      "4  \t50    \t4     \t4.33 - 7.62 \t5.87 - 63.45\n",
      "5  \t50    \t4     \t4.02 - 6.08 \t44.9 - 63.45\n",
      "6  \t50    \t4     \t3.9 - 5.81  \t44.9 - 63.45\n",
      "7  \t50    \t5     \t3.9 - 5.71  \t44.9 - 63.45\n",
      "8  \t50    \t5     \t3.9 - 5.51  \t53.41 - 63.45\n",
      "9  \t50    \t6     \t3.9 - 5.3   \t53.41 - 63.46\n",
      "10 \t50    \t6     \t3.9 - 5.14  \t53.41 - 63.46\n"
     ]
    }
   ],
   "source": [
    "ag.run(ngen=10,seed=2,mutate_flip_pb=0.1)"
   ]
  },
  {
   "cell_type": "code",
   "execution_count": 11,
   "metadata": {},
   "outputs": [
    {
     "name": "stdout",
     "output_type": "stream",
     "text": [
      "gen\tnevals\tpareto\tdistance    \tcorrelation \n",
      "0  \t100   \t3     \t0.74 - 63.45\t4.33 - 14.92\n",
      "1  \t50    \t3     \t5.76 - 63.45\t3.86 - 10.71\n",
      "2  \t50    \t3     \t5.87 - 63.45\t3.86 - 8.64 \n",
      "3  \t50    \t3     \t5.87 - 63.45\t3.86 - 7.29 \n",
      "4  \t50    \t3     \t5.87 - 63.45\t3.86 - 7.23 \n",
      "5  \t50    \t3     \t5.87 - 63.45\t3.86 - 6.12 \n",
      "6  \t50    \t4     \t31.75 - 63.58\t3.86 - 5.65 \n",
      "7  \t50    \t4     \t31.75 - 63.58\t3.86 - 5.61 \n",
      "8  \t50    \t4     \t53.41 - 63.58\t3.86 - 5.55 \n",
      "9  \t50    \t4     \t53.41 - 63.58\t3.86 - 5.35 \n",
      "10 \t50    \t4     \t53.45 - 63.58\t3.86 - 5.2  \n"
     ]
    }
   ],
   "source": [
    "ag.run(ngen=10,seed=2,mutate_flip_pb=0.9)"
   ]
  },
  {
   "cell_type": "markdown",
   "metadata": {},
   "source": [
    "## Compare the effect of crossover_thres"
   ]
  },
  {
   "cell_type": "code",
   "execution_count": 11,
   "metadata": {},
   "outputs": [
    {
     "name": "stdout",
     "output_type": "stream",
     "text": [
      "gen\tnevals\tpareto\tcorrelation \tdistance    \n",
      "0  \t100   \t3     \t4.33 - 14.92\t0.74 - 63.45\n",
      "1  \t50    \t3     \t4.33 - 9.32 \t5.76 - 63.45\n",
      "2  \t50    \t3     \t4.33 - 8.37 \t5.87 - 63.45\n",
      "3  \t50    \t3     \t4.33 - 7.5  \t5.87 - 63.45\n",
      "4  \t50    \t3     \t4.33 - 7.23 \t5.87 - 63.45\n",
      "5  \t50    \t3     \t4.33 - 6.16 \t5.87 - 63.45\n",
      "6  \t50    \t3     \t4.33 - 5.8  \t44.9 - 63.45\n",
      "7  \t50    \t3     \t4.33 - 5.61 \t44.9 - 63.45\n",
      "8  \t50    \t3     \t4.33 - 5.09 \t53.41 - 63.45\n",
      "9  \t50    \t3     \t4.33 - 4.62 \t53.41 - 63.45\n",
      "10 \t50    \t3     \t4.33 - 4.62 \t53.41 - 63.45\n",
      "11 \t50    \t3     \t4.33 - 4.62 \t53.41 - 63.45\n",
      "12 \t50    \t3     \t4.33 - 4.62 \t53.41 - 63.45\n",
      "13 \t50    \t3     \t4.33 - 4.62 \t53.41 - 63.45\n",
      "14 \t50    \t3     \t4.33 - 4.62 \t53.41 - 63.45\n",
      "15 \t50    \t3     \t4.33 - 4.62 \t53.41 - 63.45\n",
      "16 \t50    \t3     \t4.33 - 4.62 \t53.41 - 63.45\n",
      "17 \t50    \t3     \t4.33 - 4.62 \t53.41 - 63.45\n",
      "18 \t50    \t3     \t4.33 - 4.62 \t53.41 - 63.45\n",
      "19 \t50    \t3     \t4.33 - 4.62 \t53.41 - 63.45\n",
      "20 \t50    \t3     \t4.33 - 4.62 \t53.41 - 63.45\n"
     ]
    }
   ],
   "source": [
    "ag.run(ngen=20,seed=2)"
   ]
  },
  {
   "cell_type": "code",
   "execution_count": 12,
   "metadata": {},
   "outputs": [
    {
     "name": "stdout",
     "output_type": "stream",
     "text": [
      "gen\tnevals\tpareto\tcorrelation \tdistance    \n",
      "0  \t100   \t3     \t4.33 - 14.92\t0.74 - 63.45\n",
      "1  \t50    \t3     \t4.33 - 9.32 \t5.76 - 63.45\n",
      "2  \t50    \t3     \t4.33 - 8.37 \t5.87 - 63.45\n",
      "3  \t50    \t3     \t4.33 - 7.5  \t5.87 - 63.45\n",
      "4  \t50    \t2     \t4.27 - 7.23 \t5.87 - 63.45\n",
      "5  \t50    \t3     \t4.16 - 6.15 \t5.87 - 63.45\n",
      "6  \t50    \t5     \t4.16 - 5.68 \t36.76 - 63.46\n",
      "7  \t50    \t3     \t3.88 - 5.59 \t44.89 - 63.57\n",
      "8  \t50    \t5     \t3.85 - 5.51 \t53.27 - 63.57\n",
      "9  \t50    \t3     \t3.74 - 5.38 \t53.3 - 63.57 \n",
      "10 \t50    \t5     \t3.74 - 5.17 \t53.3 - 63.57 \n",
      "11 \t50    \t8     \t3.74 - 4.92 \t53.31 - 63.57\n",
      "12 \t50    \t7     \t3.74 - 4.89 \t57.68 - 63.58\n",
      "13 \t50    \t4     \t3.74 - 4.89 \t57.69 - 63.58\n",
      "14 \t50    \t4     \t3.74 - 4.75 \t57.69 - 63.58\n",
      "15 \t50    \t5     \t3.68 - 4.89 \t57.69 - 63.58\n",
      "16 \t50    \t10    \t3.63 - 4.99 \t57.69 - 63.58\n",
      "17 \t50    \t11    \t3.63 - 4.99 \t57.69 - 63.59\n",
      "18 \t50    \t13    \t3.63 - 4.99 \t57.69 - 63.59\n",
      "19 \t50    \t15    \t3.63 - 4.99 \t57.81 - 63.59\n",
      "20 \t50    \t16    \t3.63 - 4.99 \t57.82 - 63.59\n"
     ]
    }
   ],
   "source": [
    "ag.run(ngen=20,seed=2,crossover_thres=100)"
   ]
  },
  {
   "cell_type": "code",
   "execution_count": null,
   "metadata": {},
   "outputs": [],
   "source": []
  }
 ],
 "metadata": {
  "kernelspec": {
   "display_name": "Python 3",
   "language": "python",
   "name": "python3"
  },
  "language_info": {
   "codemirror_mode": {
    "name": "ipython",
    "version": 3
   },
   "file_extension": ".py",
   "mimetype": "text/x-python",
   "name": "python",
   "nbconvert_exporter": "python",
   "pygments_lexer": "ipython3",
   "version": "3.6.9"
  }
 },
 "nbformat": 4,
 "nbformat_minor": 2
}
