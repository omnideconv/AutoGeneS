{
 "cells": [
  {
   "cell_type": "code",
   "execution_count": 1,
   "metadata": {},
   "outputs": [],
   "source": [
    "import anndata\n",
    "import numpy as np\n",
    "import pandas as pd\n",
    "\n",
    "import sys\n",
    "sys.path.append(\"..\")\n",
    "import autogenes as ag"
   ]
  },
  {
   "cell_type": "code",
   "execution_count": 2,
   "metadata": {},
   "outputs": [],
   "source": [
    "data = pd.read_csv('../datasets/GSE75748_bulk_data.csv',index_col='index')\n",
    "data = data.T.iloc[:,:100]\n",
    "adata = anndata.AnnData(data)\n",
    "adata.obs['celltype'] = adata.obs.index"
   ]
  },
  {
   "cell_type": "markdown",
   "metadata": {},
   "source": [
    "# Public interface"
   ]
  },
  {
   "cell_type": "code",
   "execution_count": 3,
   "metadata": {},
   "outputs": [
    {
     "data": {
      "text/plain": [
       "AnnData object with n_obs × n_vars = 6 × 100 "
      ]
     },
     "execution_count": 3,
     "metadata": {},
     "output_type": "execute_result"
    }
   ],
   "source": [
    "ag.init(adata)"
   ]
  },
  {
   "cell_type": "code",
   "execution_count": 4,
   "metadata": {},
   "outputs": [],
   "source": [
    "ag.optimize(ngen=5,population_size=200,verbose=False)"
   ]
  },
  {
   "cell_type": "code",
   "execution_count": 11,
   "metadata": {},
   "outputs": [
    {
     "data": {
      "image/png": "[encoded data removed]",
      "text/plain": [
       "<Figure size 720x360 with 1 Axes>"
      ]
     },
     "metadata": {
      "needs_background": "light"
     },
     "output_type": "display_data"
    }
   ],
   "source": [
    "ag.plot(close_to=(0,7))"
   ]
  },
  {
   "cell_type": "code",
   "execution_count": 12,
   "metadata": {
    "scrolled": true
   },
   "outputs": [
    {
     "data": {
      "text/plain": [
       "array([False, False, False,  True, False, False,  True, False, False,\n",
       "       False, False,  True, False, False, False, False, False,  True,\n",
       "       False, False, False, False, False,  True, False,  True, False,\n",
       "        True,  True, False, False, False, False,  True, False, False,\n",
       "       False, False, False, False,  True, False, False, False, False,\n",
       "       False, False,  True,  True, False, False, False, False, False,\n",
       "        True, False, False, False, False, False, False, False, False,\n",
       "       False, False,  True, False, False,  True, False, False, False,\n",
       "       False, False, False, False, False,  True, False, False, False,\n",
       "       False,  True, False,  True, False, False, False, False, False,\n",
       "       False, False, False, False, False,  True, False, False, False,\n",
       "       False])"
      ]
     },
     "execution_count": 12,
     "metadata": {},
     "output_type": "execute_result"
    }
   ],
   "source": [
    "ag.select(close_to=(0,7))"
   ]
  },
  {
   "cell_type": "code",
   "execution_count": 13,
   "metadata": {},
   "outputs": [
    {
     "data": {
      "text/plain": [
       "array([[-3.3218757e-07,  1.1920929e-07,  1.0000001e+00,  1.0430813e-07,\n",
       "         2.9802322e-08,  1.0430813e-07]], dtype=float32)"
      ]
     },
     "execution_count": 13,
     "metadata": {},
     "output_type": "execute_result"
    }
   ],
   "source": [
    "ag.deconvolve(adata.X[0],model='linear')"
   ]
  },
  {
   "cell_type": "markdown",
   "metadata": {},
   "source": [
    "# Accessors"
   ]
  },
  {
   "cell_type": "code",
   "execution_count": 14,
   "metadata": {},
   "outputs": [
    {
     "data": {
      "text/plain": [
       "AnnData object with n_obs × n_vars = 6 × 100 \n",
       "    var: 'autogenes'"
      ]
     },
     "execution_count": 14,
     "metadata": {},
     "output_type": "execute_result"
    }
   ],
   "source": [
    "ag.adata()"
   ]
  },
  {
   "cell_type": "code",
   "execution_count": 15,
   "metadata": {},
   "outputs": [
    {
     "data": {
      "text/plain": [
       "array([False, False, False,  True, False, False,  True, False, False,\n",
       "       False, False,  True, False, False, False, False, False,  True,\n",
       "       False, False, False, False, False,  True, False,  True, False,\n",
       "        True,  True, False, False, False, False,  True, False, False,\n",
       "       False, False, False, False,  True, False, False, False, False,\n",
       "       False, False,  True,  True, False, False, False, False, False,\n",
       "        True, False, False, False, False, False, False, False, False,\n",
       "       False, False,  True, False, False,  True, False, False, False,\n",
       "       False, False, False, False, False,  True, False, False, False,\n",
       "       False,  True, False,  True, False, False, False, False, False,\n",
       "       False, False, False, False, False,  True, False, False, False,\n",
       "       False])"
      ]
     },
     "execution_count": 15,
     "metadata": {},
     "output_type": "execute_result"
    }
   ],
   "source": [
    "ag.selection()"
   ]
  },
  {
   "cell_type": "code",
   "execution_count": 16,
   "metadata": {},
   "outputs": [
    {
     "data": {
      "text/plain": [
       "array([[  2.9819702 ,  34.44479179],\n",
       "       [  3.16989072,  52.23744613],\n",
       "       [  4.00280195,  92.92169619],\n",
       "       [  4.30880325, 148.3191992 ],\n",
       "       [  4.31232249, 155.7622087 ],\n",
       "       [  4.39812874, 164.86013579],\n",
       "       [  6.97063421, 188.01308846],\n",
       "       [  9.03819625, 237.81427896]])"
      ]
     },
     "execution_count": 16,
     "metadata": {},
     "output_type": "execute_result"
    }
   ],
   "source": [
    "ag.fitness_matrix()"
   ]
  },
  {
   "cell_type": "code",
   "execution_count": 17,
   "metadata": {},
   "outputs": [
    {
     "data": {
      "text/plain": [
       "[array([False,  True, False,  True, False, False,  True, False, False,\n",
       "        False, False, False, False, False,  True, False, False, False,\n",
       "        False, False,  True, False, False, False, False,  True, False,\n",
       "        False, False, False, False, False,  True, False, False, False,\n",
       "        False, False,  True, False, False, False, False,  True, False,\n",
       "        False, False, False, False,  True, False, False, False, False,\n",
       "        False, False, False, False, False, False, False, False, False,\n",
       "        False, False, False,  True, False, False, False, False, False,\n",
       "        False, False, False, False, False, False, False, False, False,\n",
       "        False,  True, False, False, False, False, False, False, False,\n",
       "        False, False,  True, False, False,  True,  True, False, False,\n",
       "        False]),\n",
       " array([False, False, False,  True,  True, False,  True,  True, False,\n",
       "         True,  True, False, False, False, False, False, False, False,\n",
       "        False, False,  True, False, False, False, False, False, False,\n",
       "        False, False, False, False, False,  True, False, False, False,\n",
       "        False,  True, False, False,  True, False, False, False, False,\n",
       "        False, False, False, False, False, False, False, False, False,\n",
       "        False, False, False, False, False,  True, False, False, False,\n",
       "        False,  True, False, False, False, False, False,  True, False,\n",
       "         True, False, False,  True, False, False, False, False,  True,\n",
       "         True,  True, False, False, False, False, False, False, False,\n",
       "        False, False,  True, False, False, False,  True, False,  True,\n",
       "        False]),\n",
       " array([ True, False,  True, False, False, False, False, False,  True,\n",
       "        False, False, False, False,  True, False, False, False, False,\n",
       "        False, False, False, False, False, False, False, False,  True,\n",
       "        False,  True, False, False, False,  True, False, False,  True,\n",
       "        False, False, False, False, False, False,  True, False, False,\n",
       "        False, False, False, False, False, False, False, False, False,\n",
       "        False, False, False, False, False, False, False, False, False,\n",
       "         True, False, False, False, False, False, False, False, False,\n",
       "         True, False, False, False,  True, False, False, False, False,\n",
       "        False, False, False, False, False,  True, False, False,  True,\n",
       "        False, False,  True,  True, False, False, False, False, False,\n",
       "        False]),\n",
       " array([False, False, False, False, False,  True, False, False, False,\n",
       "        False, False,  True, False, False, False, False, False, False,\n",
       "        False,  True,  True, False, False, False, False, False, False,\n",
       "        False, False,  True, False, False, False, False, False, False,\n",
       "         True, False, False,  True, False, False,  True, False, False,\n",
       "        False, False, False,  True,  True, False, False, False, False,\n",
       "        False, False, False, False, False, False, False, False, False,\n",
       "        False, False, False, False,  True, False, False, False, False,\n",
       "        False,  True, False, False, False, False, False, False, False,\n",
       "        False,  True,  True, False, False, False, False,  True, False,\n",
       "        False, False, False, False, False, False, False, False, False,\n",
       "        False]),\n",
       " array([False, False, False, False, False, False, False, False, False,\n",
       "        False, False,  True, False, False, False, False, False,  True,\n",
       "        False,  True, False, False,  True, False, False, False, False,\n",
       "        False, False, False, False, False, False, False, False,  True,\n",
       "         True, False, False, False, False, False, False, False,  True,\n",
       "        False, False, False,  True, False,  True, False, False,  True,\n",
       "         True, False, False, False, False,  True, False, False, False,\n",
       "         True, False, False, False, False, False, False, False,  True,\n",
       "        False, False, False, False, False, False, False,  True, False,\n",
       "        False, False,  True, False, False, False, False, False,  True,\n",
       "        False, False, False, False, False, False, False, False, False,\n",
       "         True]),\n",
       " array([ True, False, False, False,  True, False, False, False, False,\n",
       "        False, False, False,  True,  True, False, False, False, False,\n",
       "        False, False, False, False, False, False,  True, False, False,\n",
       "        False, False, False, False, False, False, False, False, False,\n",
       "        False, False, False, False, False, False, False, False, False,\n",
       "        False,  True, False,  True,  True, False, False, False, False,\n",
       "        False, False, False, False, False, False, False, False, False,\n",
       "        False, False, False, False, False, False,  True,  True, False,\n",
       "        False, False, False, False, False, False, False, False, False,\n",
       "         True, False, False,  True, False, False, False, False, False,\n",
       "        False, False,  True, False, False,  True, False, False,  True,\n",
       "        False]),\n",
       " array([False, False, False,  True, False, False,  True, False, False,\n",
       "        False, False,  True, False, False, False, False, False,  True,\n",
       "        False, False, False, False, False,  True, False,  True, False,\n",
       "         True,  True, False, False, False, False,  True, False, False,\n",
       "        False, False, False, False,  True, False, False, False, False,\n",
       "        False, False,  True,  True, False, False, False, False, False,\n",
       "         True, False, False, False, False, False, False, False, False,\n",
       "        False, False,  True, False, False,  True, False, False, False,\n",
       "        False, False, False, False, False,  True, False, False, False,\n",
       "        False,  True, False,  True, False, False, False, False, False,\n",
       "        False, False, False, False, False,  True, False, False, False,\n",
       "        False]),\n",
       " array([False, False, False, False,  True, False, False,  True, False,\n",
       "        False, False, False, False, False, False, False,  True, False,\n",
       "        False, False, False, False, False, False,  True, False, False,\n",
       "        False, False,  True, False, False, False, False, False, False,\n",
       "        False, False, False, False, False, False,  True, False, False,\n",
       "         True, False,  True,  True, False, False, False, False,  True,\n",
       "        False, False,  True,  True, False, False, False, False, False,\n",
       "        False,  True, False, False, False, False, False, False, False,\n",
       "        False,  True, False, False, False, False, False, False, False,\n",
       "        False, False,  True, False,  True, False, False, False, False,\n",
       "        False, False, False, False, False, False, False,  True, False,\n",
       "        False])]"
      ]
     },
     "execution_count": 17,
     "metadata": {},
     "output_type": "execute_result"
    }
   ],
   "source": [
    "ag.pareto()"
   ]
  },
  {
   "cell_type": "code",
   "execution_count": null,
   "metadata": {},
   "outputs": [],
   "source": []
  }
 ],
 "metadata": {
  "kernelspec": {
   "display_name": "Python 3",
   "language": "python",
   "name": "python3"
  },
  "language_info": {
   "codemirror_mode": {
    "name": "ipython",
    "version": 3
   },
   "file_extension": ".py",
   "mimetype": "text/x-python",
   "name": "python",
   "nbconvert_exporter": "python",
   "pygments_lexer": "ipython3",
   "version": "3.6.9"
  }
 },
 "nbformat": 4,
 "nbformat_minor": 2
}
