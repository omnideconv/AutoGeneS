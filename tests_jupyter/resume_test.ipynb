{
 "cells": [
  {
   "cell_type": "code",
   "execution_count": 1,
   "metadata": {},
   "outputs": [],
   "source": [
    "import anndata\n",
    "import numpy as np\n",
    "import pandas as pd\n",
    "\n",
    "import sys\n",
    "sys.path.append(\"..\")\n",
    "import autogenes as ag"
   ]
  },
  {
   "cell_type": "code",
   "execution_count": 2,
   "metadata": {},
   "outputs": [],
   "source": [
    "data = pd.read_csv('../datasets/GSE75748_bulk_data.csv',index_col='index')\n",
    "data = data.T.iloc[:,:100]"
   ]
  },
  {
   "cell_type": "code",
   "execution_count": 6,
   "metadata": {},
   "outputs": [],
   "source": [
    "ag.init(data)"
   ]
  },
  {
   "cell_type": "markdown",
   "metadata": {},
   "source": [
    "# Test resume "
   ]
  },
  {
   "cell_type": "markdown",
   "metadata": {},
   "source": [
    "Instruction: Run ag.optimize and interrupt it manually (e.g. by interrupting the kernel) somewhere in the middle. Then, run ag.resume(). It should continue where it was interrupted (although \"gen\" will start at 0 again) and run the genetic algorithm until the end."
   ]
  },
  {
   "cell_type": "code",
   "execution_count": 9,
   "metadata": {},
   "outputs": [
    {
     "name": "stdout",
     "output_type": "stream",
     "text": [
      "gen\tnevals\tpareto\tcorrelation \tdistance     \n",
      "0  \t100   \t5     \t3.56 - 14.24\t8.27 - 237.81\n",
      "1  \t50    \t5     \t3.56 - 12.66\t8.27 - 237.81\n",
      "2  \t50    \t5     \t3.56 - 11.76\t14.43 - 237.81\n",
      "3  \t50    \t5     \t3.56 - 10.64\t26.25 - 237.81\n",
      "4  \t50    \t5     \t3.56 - 9.99 \t47.36 - 237.81\n",
      "5  \t50    \t5     \t3.56 - 9.96 \t50.57 - 237.81\n",
      "6  \t50    \t5     \t3.56 - 9.04 \t50.57 - 237.81\n",
      "\n",
      "Stopped manually. Resume with ag.resume()\n"
     ]
    }
   ],
   "source": [
    "ag.optimize(ngen=20)"
   ]
  },
  {
   "cell_type": "code",
   "execution_count": 10,
   "metadata": {},
   "outputs": [
    {
     "name": "stdout",
     "output_type": "stream",
     "text": [
      "Resume at generation 6\n",
      "\n",
      "gen\tnevals\tpareto\tcorrelation\tdistance      \n",
      "0  \t0     \t5     \t3.56 - 9.04\t50.57 - 237.81\n",
      "1  \t50    \t5     \t3.56 - 9.04\t50.57 - 237.81\n",
      "2  \t50    \t5     \t3.56 - 9.04\t50.57 - 237.81\n",
      "3  \t50    \t5     \t3.56 - 9.04\t50.57 - 237.81\n",
      "4  \t50    \t5     \t3.56 - 9.04\t50.57 - 237.81\n",
      "5  \t50    \t5     \t3.56 - 9.04\t50.57 - 237.81\n",
      "6  \t50    \t5     \t3.56 - 9.04\t50.57 - 237.81\n",
      "7  \t50    \t5     \t3.56 - 9.04\t50.57 - 237.81\n",
      "8  \t50    \t5     \t3.56 - 9.04\t50.57 - 237.81\n",
      "9  \t50    \t5     \t3.56 - 9.04\t50.57 - 237.81\n",
      "10 \t50    \t5     \t3.56 - 9.04\t50.57 - 237.81\n",
      "11 \t50    \t5     \t3.56 - 9.04\t50.57 - 237.81\n",
      "12 \t50    \t6     \t3.56 - 9.09\t50.57 - 237.81\n",
      "13 \t50    \t6     \t3.56 - 9.09\t50.57 - 237.81\n",
      "14 \t50    \t7     \t3.56 - 9.09\t50.57 - 237.81\n"
     ]
    }
   ],
   "source": [
    "ag.resume()"
   ]
  },
  {
   "cell_type": "code",
   "execution_count": null,
   "metadata": {},
   "outputs": [],
   "source": []
  }
 ],
 "metadata": {
  "kernelspec": {
   "display_name": "Python 3",
   "language": "python",
   "name": "python3"
  },
  "language_info": {
   "codemirror_mode": {
    "name": "ipython",
    "version": 3
   },
   "file_extension": ".py",
   "mimetype": "text/x-python",
   "name": "python",
   "nbconvert_exporter": "python",
   "pygments_lexer": "ipython3",
   "version": "3.6.9"
  }
 },
 "nbformat": 4,
 "nbformat_minor": 2
}
