{
 "cells": [
  {
   "cell_type": "code",
   "execution_count": 1,
   "metadata": {},
   "outputs": [],
   "source": [
    "import anndata\n",
    "import numpy as np\n",
    "import pandas as pd\n",
    "\n",
    "import sys\n",
    "sys.path.append(\"..\")\n",
    "import autogenes as ag"
   ]
  },
  {
   "cell_type": "code",
   "execution_count": 2,
   "metadata": {},
   "outputs": [],
   "source": [
    "data = pd.read_csv('../datasets/GSE75748_bulk_data.csv',index_col='index')\n",
    "data = data.T.iloc[:,:100]\n",
    "adata = anndata.AnnData(data)\n",
    "adata.obs['celltype'] = adata.obs.index"
   ]
  },
  {
   "cell_type": "code",
   "execution_count": 3,
   "metadata": {},
   "outputs": [
    {
     "data": {
      "text/plain": [
       "AnnData object with n_obs × n_vars = 6 × 100 "
      ]
     },
     "execution_count": 3,
     "metadata": {},
     "output_type": "execute_result"
    }
   ],
   "source": [
    "ag.init(adata)"
   ]
  },
  {
   "cell_type": "markdown",
   "metadata": {},
   "source": [
    "# Test save"
   ]
  },
  {
   "cell_type": "code",
   "execution_count": 4,
   "metadata": {},
   "outputs": [
    {
     "name": "stdout",
     "output_type": "stream",
     "text": [
      "gen\tnevals\tpareto\tcorrelation \tdistance     \n",
      "0  \t100   \t5     \t3.56 - 14.24\t8.27 - 237.81\n",
      "1  \t50    \t5     \t3.56 - 12.66\t8.27 - 237.81\n",
      "2  \t50    \t5     \t3.56 - 11.76\t14.43 - 237.81\n",
      "3  \t50    \t5     \t3.56 - 10.64\t26.25 - 237.81\n",
      "4  \t50    \t5     \t3.56 - 9.99 \t47.36 - 237.81\n",
      "5  \t50    \t5     \t3.56 - 9.96 \t50.57 - 237.81\n",
      "6  \t50    \t5     \t3.56 - 9.04 \t50.57 - 237.81\n",
      "7  \t50    \t5     \t3.56 - 9.04 \t50.57 - 237.81\n",
      "8  \t50    \t5     \t3.56 - 9.04 \t50.57 - 237.81\n",
      "9  \t50    \t5     \t3.56 - 9.04 \t50.57 - 237.81\n",
      "10 \t50    \t5     \t3.56 - 9.04 \t50.57 - 237.81\n"
     ]
    }
   ],
   "source": [
    "ag.optimize(ngen=10)"
   ]
  },
  {
   "cell_type": "code",
   "execution_count": 5,
   "metadata": {},
   "outputs": [
    {
     "data": {
      "image/png": "[encoded data removed]",
      "text/plain": [
       "<Figure size 720x360 with 1 Axes>"
      ]
     },
     "metadata": {
      "needs_background": "light"
     },
     "output_type": "display_data"
    }
   ],
   "source": [
    "ag.plot(close_to=(0,8))"
   ]
  },
  {
   "cell_type": "code",
   "execution_count": 6,
   "metadata": {},
   "outputs": [
    {
     "data": {
      "text/plain": [
       "array([ True, False, False, False, False, False, False, False, False,\n",
       "       False, False, False, False, False,  True, False, False, False,\n",
       "       False, False, False, False, False, False, False, False, False,\n",
       "       False, False,  True, False, False, False,  True, False, False,\n",
       "       False, False, False, False, False, False, False,  True, False,\n",
       "       False, False, False,  True, False, False, False, False, False,\n",
       "       False, False, False, False,  True,  True, False, False, False,\n",
       "        True, False, False, False, False, False, False,  True,  True,\n",
       "        True, False, False, False, False, False, False, False,  True,\n",
       "        True, False,  True, False, False, False, False,  True, False,\n",
       "       False, False,  True, False, False, False, False, False, False,\n",
       "       False])"
      ]
     },
     "execution_count": 6,
     "metadata": {},
     "output_type": "execute_result"
    }
   ],
   "source": [
    "ag.select(close_to=(0,8))"
   ]
  },
  {
   "cell_type": "code",
   "execution_count": 8,
   "metadata": {},
   "outputs": [],
   "source": [
    "ag.save(\"saved_ag.pickle\")"
   ]
  },
  {
   "cell_type": "markdown",
   "metadata": {},
   "source": [
    "# Test save with interrupt"
   ]
  },
  {
   "cell_type": "code",
   "execution_count": 9,
   "metadata": {},
   "outputs": [
    {
     "name": "stdout",
     "output_type": "stream",
     "text": [
      "gen\tnevals\tpareto\tcorrelation \tdistance     \n",
      "0  \t100   \t5     \t3.56 - 14.24\t8.27 - 237.81\n",
      "1  \t50    \t5     \t3.56 - 12.66\t8.27 - 237.81\n",
      "2  \t50    \t5     \t3.56 - 11.76\t14.43 - 237.81\n",
      "3  \t50    \t5     \t3.56 - 10.64\t26.25 - 237.81\n",
      "4  \t50    \t5     \t3.56 - 9.99 \t47.36 - 237.81\n",
      "5  \t50    \t5     \t3.56 - 9.96 \t50.57 - 237.81\n",
      "6  \t50    \t5     \t3.56 - 9.04 \t50.57 - 237.81\n",
      "\n",
      "Stopped manually. Resume with ag.resume()\n"
     ]
    }
   ],
   "source": [
    "ag.optimize(ngen=10)"
   ]
  },
  {
   "cell_type": "code",
   "execution_count": 10,
   "metadata": {},
   "outputs": [],
   "source": [
    "ag.save(\"interrupted_ag.pickle\")"
   ]
  },
  {
   "cell_type": "code",
   "execution_count": null,
   "metadata": {},
   "outputs": [],
   "source": []
  }
 ],
 "metadata": {
  "kernelspec": {
   "display_name": "Python 3",
   "language": "python",
   "name": "python3"
  },
  "language_info": {
   "codemirror_mode": {
    "name": "ipython",
    "version": 3
   },
   "file_extension": ".py",
   "mimetype": "text/x-python",
   "name": "python",
   "nbconvert_exporter": "python",
   "pygments_lexer": "ipython3",
   "version": "3.6.9"
  }
 },
 "nbformat": 4,
 "nbformat_minor": 2
}
