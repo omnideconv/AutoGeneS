{
 "cells": [
  {
   "cell_type": "code",
   "execution_count": 1,
   "metadata": {},
   "outputs": [],
   "source": [
    "#import scanpy as sc\n",
    "import anndata\n",
    "import numpy as np\n",
    "import pandas as pd\n",
    "import importlib\n",
    "#import pickle\n",
    "\n",
    "import sys\n",
    "sys.path.append(\"..\")\n",
    "import autogenes"
   ]
  },
  {
   "cell_type": "code",
   "execution_count": 2,
   "metadata": {},
   "outputs": [],
   "source": [
    "data = pd.read_csv('../datasets/GSE75748_bulk_data.csv',index_col='index')\n",
    "data = data.T.iloc[:,:100].values\n",
    "ag = autogenes.AutoGeneS(data)"
   ]
  },
  {
   "cell_type": "code",
   "execution_count": 3,
   "metadata": {},
   "outputs": [
    {
     "name": "stdout",
     "output_type": "stream",
     "text": [
      "gen\tnevals\tpareto\tdistance     \n",
      "0  \t100   \t1     \t8.27 - 237.81\n",
      "1  \t100   \t1     \t68.86 - 237.81\n",
      "2  \t100   \t1     \t141.96 - 237.81\n",
      "3  \t100   \t1     \t159.75 - 237.81\n",
      "4  \t100   \t1     \t166.6 - 237.81 \n",
      "5  \t100   \t1     \t230.26 - 237.81\n",
      "6  \t100   \t1     \t233.67 - 237.81\n",
      "7  \t100   \t1     \t233.67 - 237.81\n",
      "8  \t100   \t1     \t237.81 - 237.81\n",
      "9  \t100   \t1     \t237.81 - 237.81\n",
      "10 \t100   \t1     \t237.81 - 237.81\n"
     ]
    }
   ],
   "source": [
    "ag.run(ngen=10,offspring_size=100,seed=0,weights=(1,),objectives=('distance',))"
   ]
  },
  {
   "cell_type": "code",
   "execution_count": 4,
   "metadata": {},
   "outputs": [
    {
     "data": {
      "text/plain": [
       "array([[237.8142811]])"
      ]
     },
     "execution_count": 4,
     "metadata": {},
     "output_type": "execute_result"
    }
   ],
   "source": [
    "ag.fitness_matrix"
   ]
  },
  {
   "cell_type": "code",
   "execution_count": 5,
   "metadata": {},
   "outputs": [
    {
     "ename": "Exception",
     "evalue": "Cannot plot for a single objective",
     "output_type": "error",
     "traceback": [
      "\u001b[0;31m---------------------------------------------------------------------------\u001b[0m",
      "\u001b[0;31mException\u001b[0m                                 Traceback (most recent call last)",
      "\u001b[0;32m<ipython-input-5-16b801a68718>\u001b[0m in \u001b[0;36m<module>\u001b[0;34m\u001b[0m\n\u001b[0;32m----> 1\u001b[0;31m \u001b[0mag\u001b[0m\u001b[0;34m.\u001b[0m\u001b[0mplot\u001b[0m\u001b[0;34m(\u001b[0m\u001b[0mobjectives\u001b[0m\u001b[0;34m=\u001b[0m\u001b[0;34m(\u001b[0m\u001b[0;36m0\u001b[0m\u001b[0;34m,\u001b[0m\u001b[0;36m0\u001b[0m\u001b[0;34m)\u001b[0m\u001b[0;34m)\u001b[0m\u001b[0;34m\u001b[0m\u001b[0;34m\u001b[0m\u001b[0m\n\u001b[0m",
      "\u001b[0;32m~/workspace/hiwi/autogenes/lila167/AutoGeneS/autogenes/core.py\u001b[0m in \u001b[0;36mplot\u001b[0;34m(self, objectives, **kwargs)\u001b[0m\n\u001b[1;32m    155\u001b[0m \u001b[0;34m\u001b[0m\u001b[0m\n\u001b[1;32m    156\u001b[0m     \u001b[0;32mif\u001b[0m \u001b[0mself\u001b[0m\u001b[0;34m.\u001b[0m\u001b[0mobjectives_num\u001b[0m \u001b[0;34m==\u001b[0m \u001b[0;36m1\u001b[0m\u001b[0;34m:\u001b[0m\u001b[0;34m\u001b[0m\u001b[0;34m\u001b[0m\u001b[0m\n\u001b[0;32m--> 157\u001b[0;31m       \u001b[0;32mraise\u001b[0m \u001b[0mException\u001b[0m\u001b[0;34m(\u001b[0m\u001b[0;34m\"Cannot plot for a single objective\"\u001b[0m\u001b[0;34m)\u001b[0m\u001b[0;34m\u001b[0m\u001b[0;34m\u001b[0m\u001b[0m\n\u001b[0m\u001b[1;32m    158\u001b[0m \u001b[0;34m\u001b[0m\u001b[0m\n\u001b[1;32m    159\u001b[0m     \u001b[0mobj\u001b[0m \u001b[0;34m=\u001b[0m \u001b[0mobjectives\u001b[0m\u001b[0;34m\u001b[0m\u001b[0;34m\u001b[0m\u001b[0m\n",
      "\u001b[0;31mException\u001b[0m: Cannot plot for a single objective"
     ]
    }
   ],
   "source": [
    "ag.plot(objectives=(0,0))"
   ]
  },
  {
   "cell_type": "code",
   "execution_count": 6,
   "metadata": {},
   "outputs": [
    {
     "name": "stdout",
     "output_type": "stream",
     "text": [
      "gen\tnevals\tpareto\tcorrelation \n",
      "0  \t100   \t1     \t3.56 - 14.24\n",
      "1  \t100   \t1     \t3.56 - 8.08 \n",
      "2  \t100   \t1     \t3.56 - 6.18 \n",
      "3  \t100   \t1     \t3.56 - 5.2  \n",
      "4  \t100   \t1     \t3.56 - 4.4  \n",
      "5  \t100   \t1     \t3.56 - 4.23 \n",
      "6  \t100   \t1     \t3.56 - 4.0  \n",
      "7  \t100   \t1     \t3.56 - 4.0  \n",
      "8  \t100   \t1     \t3.56 - 3.56 \n",
      "9  \t100   \t1     \t3.56 - 3.56 \n",
      "10 \t100   \t1     \t3.56 - 3.56 \n"
     ]
    }
   ],
   "source": [
    "ag.run(ngen=10,offspring_size=100,seed=0,weights=(-1,),objectives=('correlation',))"
   ]
  },
  {
   "cell_type": "code",
   "execution_count": 7,
   "metadata": {},
   "outputs": [
    {
     "data": {
      "text/plain": [
       "array([[3.55701193]])"
      ]
     },
     "execution_count": 7,
     "metadata": {},
     "output_type": "execute_result"
    }
   ],
   "source": [
    "ag.fitness_matrix"
   ]
  },
  {
   "cell_type": "code",
   "execution_count": 8,
   "metadata": {},
   "outputs": [
    {
     "name": "stderr",
     "output_type": "stream",
     "text": [
      "../autogenes/core.py:84: UserWarning: Ignoring objective 'correlation'\n",
      "  warnings.warn(f\"Ignoring objective '{str(objectives[i])}'\")\n"
     ]
    },
    {
     "name": "stdout",
     "output_type": "stream",
     "text": [
      "gen\tnevals\tpareto\tdistance     \n",
      "0  \t100   \t1     \t8.27 - 237.81\n",
      "1  \t100   \t1     \t68.86 - 237.81\n",
      "2  \t100   \t1     \t141.96 - 237.81\n",
      "3  \t100   \t1     \t159.75 - 237.81\n",
      "4  \t100   \t1     \t166.6 - 237.81 \n",
      "5  \t100   \t1     \t230.26 - 237.81\n",
      "6  \t100   \t1     \t233.67 - 237.81\n",
      "7  \t100   \t1     \t233.67 - 237.81\n",
      "8  \t100   \t1     \t237.81 - 237.81\n",
      "9  \t100   \t1     \t237.81 - 237.81\n",
      "10 \t100   \t1     \t237.81 - 237.81\n"
     ]
    }
   ],
   "source": [
    "ag.run(ngen=10,offspring_size=100,seed=0,weights=(1,0),objectives=('distance','correlation'))"
   ]
  },
  {
   "cell_type": "code",
   "execution_count": 9,
   "metadata": {},
   "outputs": [
    {
     "data": {
      "text/plain": [
       "array([[237.8142811]])"
      ]
     },
     "execution_count": 9,
     "metadata": {},
     "output_type": "execute_result"
    }
   ],
   "source": [
    "ag.fitness_matrix"
   ]
  },
  {
   "cell_type": "code",
   "execution_count": 10,
   "metadata": {},
   "outputs": [
    {
     "data": {
      "text/plain": [
       "(237.81428109547008,)"
      ]
     },
     "execution_count": 10,
     "metadata": {},
     "output_type": "execute_result"
    }
   ],
   "source": [
    "ag.pareto[0].fitness.wvalues"
   ]
  },
  {
   "cell_type": "code",
   "execution_count": 11,
   "metadata": {},
   "outputs": [
    {
     "name": "stdout",
     "output_type": "stream",
     "text": [
      "gen\tnevals\tpareto\tdistance     \tnum_genes\n",
      "0  \t100   \t1     \t8.27 - 237.81\t6.0 - 6.0\n",
      "1  \t100   \t1     \t68.86 - 237.81\t6.0 - 6.0\n",
      "2  \t100   \t1     \t141.96 - 237.81\t6.0 - 6.0\n",
      "3  \t100   \t1     \t159.75 - 237.81\t6.0 - 6.0\n",
      "4  \t100   \t1     \t166.6 - 237.81 \t6.0 - 6.0\n",
      "5  \t100   \t1     \t230.26 - 237.81\t6.0 - 6.0\n",
      "6  \t100   \t1     \t233.67 - 237.81\t6.0 - 6.0\n",
      "7  \t100   \t1     \t233.67 - 237.81\t6.0 - 6.0\n",
      "8  \t100   \t1     \t237.81 - 237.81\t6.0 - 6.0\n",
      "9  \t100   \t1     \t237.81 - 237.81\t6.0 - 6.0\n",
      "10 \t100   \t1     \t237.81 - 237.81\t6.0 - 6.0\n"
     ]
    }
   ],
   "source": [
    "def num_genes(data): return data.shape[0]\n",
    "ag.run(ngen=10,offspring_size=100,seed=0,weights=(1,-1,0),objectives=('distance',num_genes,'correlation'))"
   ]
  },
  {
   "cell_type": "code",
   "execution_count": 12,
   "metadata": {},
   "outputs": [
    {
     "data": {
      "text/plain": [
       "IndividualGA([False, False, False, False,  True, False, False,  True,\n",
       "              False, False, False, False, False, False, False, False,\n",
       "               True, False, False, False, False, False, False, False,\n",
       "               True, False, False, False, False,  True, False, False,\n",
       "              False, False, False, False, False, False, False, False,\n",
       "              False, False,  True, False, False,  True, False,  True,\n",
       "               True, False, False, False, False,  True, False, False,\n",
       "               True,  True, False, False, False, False, False, False,\n",
       "               True, False, False, False, False, False, False, False,\n",
       "              False,  True, False, False, False, False,  True, False,\n",
       "              False, False, False,  True, False,  True, False, False,\n",
       "              False, False, False, False, False, False, False, False,\n",
       "              False,  True, False, False])"
      ]
     },
     "execution_count": 12,
     "metadata": {},
     "output_type": "execute_result"
    }
   ],
   "source": [
    "ag.select()"
   ]
  },
  {
   "cell_type": "code",
   "execution_count": 13,
   "metadata": {},
   "outputs": [],
   "source": [
    "ag.run(ngen=10,offspring_size=100,seed=0,weights=(1,-1,0.5),objectives=('distance',num_genes,'correlation'),verbose=False)"
   ]
  },
  {
   "cell_type": "code",
   "execution_count": 14,
   "metadata": {},
   "outputs": [
    {
     "data": {
      "text/plain": [
       "IndividualGA([False, False, False, False, False,  True, False, False,\n",
       "               True,  True,  True, False, False, False, False, False,\n",
       "              False, False, False, False, False, False, False, False,\n",
       "              False, False, False, False, False, False, False, False,\n",
       "               True,  True,  True,  True, False, False, False, False,\n",
       "              False, False, False, False, False,  True, False, False,\n",
       "               True, False, False, False, False, False, False, False,\n",
       "              False, False, False, False, False, False,  True, False,\n",
       "               True,  True, False, False, False, False, False, False,\n",
       "              False, False, False, False, False, False, False,  True,\n",
       "              False, False, False, False, False, False, False,  True,\n",
       "              False, False, False, False, False, False, False, False,\n",
       "               True, False, False, False])"
      ]
     },
     "execution_count": 14,
     "metadata": {},
     "output_type": "execute_result"
    }
   ],
   "source": [
    "ag.select()"
   ]
  },
  {
   "cell_type": "code",
   "execution_count": null,
   "metadata": {},
   "outputs": [],
   "source": []
  }
 ],
 "metadata": {
  "kernelspec": {
   "display_name": "Python 3",
   "language": "python",
   "name": "python3"
  },
  "language_info": {
   "codemirror_mode": {
    "name": "ipython",
    "version": 3
   },
   "file_extension": ".py",
   "mimetype": "text/x-python",
   "name": "python",
   "nbconvert_exporter": "python",
   "pygments_lexer": "ipython3",
   "version": "3.6.9"
  }
 },
 "nbformat": 4,
 "nbformat_minor": 2
}
